{
 "cells": [
  {
   "cell_type": "code",
   "execution_count": null,
   "metadata": {},
   "outputs": [],
   "source": [
    "# Save the final dataset to a csv file\n",
    "final_data.to_csv('full_labeled_dataset.csv', index=False)"
   ]
  },
  {
   "cell_type": "code",
   "execution_count": null,
   "metadata": {},
   "outputs": [],
   "source": [
    "import pandas as pd\n",
    "\n",
    "air_data = pd.read_csv('air_quality_dataset/AQI and Lat Long of Countries.csv')\n",
    "climate_change_data = pd.read_csv('climate_change_dataset/climate_change_data.csv')\n",
    "forest_coverage_data = pd.read_csv('forest_coverage_dataset/forest_coverage_data.csv')\n"
   ]
  },
  {
   "cell_type": "code",
   "execution_count": null,
   "metadata": {},
   "outputs": [],
   "source": [
    "# Average all of the AQI features for each country, so the dataset only has one row per country\n",
    "air_data = air_data.groupby('Country').mean().reset_index()\n",
    "air_data"
   ]
  },
  {
   "cell_type": "code",
   "execution_count": null,
   "metadata": {},
   "outputs": [],
   "source": [
    "# Average all of the features for each country in the climate change dataset, so the dataset only has one row per country\n",
    "climate_change_data = climate_change_data.groupby('Country').mean().reset_index()\n",
    "climate_change_data"
   ]
  },
  {
   "cell_type": "code",
   "execution_count": null,
   "metadata": {},
   "outputs": [],
   "source": [
    "# Go through and average 3 columns into 1 for each row in the forest coverage dataset\n",
    "#forest_coverage_data['Forest Coverage'] = forest_coverage_data[['Forest Area 2017','Forest Area 2018','Forest Area 2019','Forest Area 2020']].mean(axis=1)\n",
    "# drop the 4 columns that were averaged\n",
    "'''forest_coverage_data = forest_coverage_data.drop('Forest Area 2017', axis=1)\n",
    "forest_coverage_data = forest_coverage_data.drop('Forest Area 2018', axis=1)\n",
    "forest_coverage_data = forest_coverage_data.drop('Forest Area 2019', axis=1)\n",
    "forest_coverage_data = forest_coverage_data.drop('Forest Area 2020', axis=1)\n",
    "'''\n",
    "forest_coverage_data"
   ]
  },
  {
   "cell_type": "code",
   "execution_count": null,
   "metadata": {},
   "outputs": [],
   "source": [
    "air_data\n",
    "climate_change_data\n",
    "forest_coverage_data"
   ]
  },
  {
   "cell_type": "code",
   "execution_count": null,
   "metadata": {},
   "outputs": [],
   "source": [
    "# Add all of the features for each country from each dataframe into a single dataframe which is matched by country name\n",
    "merged_data = pd.merge(air_data, climate_change_data, on='Country')\n",
    "merged_data\n"
   ]
  },
  {
   "cell_type": "code",
   "execution_count": null,
   "metadata": {},
   "outputs": [],
   "source": [
    "# Now combine this with the data from the labeled_dataset.csv in which you should match all of the features by country name\n",
    "labeled_data = pd.read_csv('labeled_dataset.csv')\n",
    "# Merge the labeled data with the merged data from the other 3 datasets\n",
    "final_data = pd.merge(labeled_data, merged_data, on='Country')\n",
    "final_data"
   ]
  }
 ],
 "metadata": {
  "kernelspec": {
   "display_name": "Python 3",
   "language": "python",
   "name": "python3"
  },
  "language_info": {
   "codemirror_mode": {
    "name": "ipython",
    "version": 3
   },
   "file_extension": ".py",
   "mimetype": "text/x-python",
   "name": "python",
   "nbconvert_exporter": "python",
   "pygments_lexer": "ipython3",
   "version": "3.9.16"
  },
  "orig_nbformat": 4
 },
 "nbformat": 4,
 "nbformat_minor": 2
}
